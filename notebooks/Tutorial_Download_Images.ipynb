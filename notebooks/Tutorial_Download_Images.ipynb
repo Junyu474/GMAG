{
 "cells": [
  {
   "cell_type": "markdown",
   "metadata": {
    "pycharm": {
     "name": "#%% md\n"
    }
   },
   "source": [
    "# GMAG Tutorial: Download Images from SDSS\n",
    "\n",
    "This is a tutorial for downloading images from the Sloan Digital Sky Survey (SDSS) using the `gmag.sdss` module. To check out a comparison of download speeds between `gmag` and `astroquery`, check out `Download_Time_Comparison.ipynb`."
   ]
  },
  {
   "cell_type": "markdown",
   "metadata": {
    "pycharm": {
     "name": "#%% md\n"
    }
   },
   "source": [
    "## 0. Importing the module\n",
    "\n",
    "_advise: import the `sdss` module instead of the function `download_images` for clarity._"
   ]
  },
  {
   "cell_type": "code",
   "execution_count": 2,
   "metadata": {
    "pycharm": {
     "name": "#%%\n"
    }
   },
   "outputs": [],
   "source": [
    "from gmag import sdss"
   ]
  },
  {
   "cell_type": "markdown",
   "metadata": {
    "pycharm": {
     "name": "#%% md\n"
    }
   },
   "source": [
    "## 1. Coordinates File\n",
    "\n",
    "You will need to provide file coordinates to download images from. The file format can be anything as long as it can be read by `astropy.table.Table`. The coordinates file should have the following columns:\n",
    "- `ra`: Right Ascension in degrees\n",
    "- `dec`: Declination in degrees\n",
    "- `name`: (Optional) Name of the object, for naming the directory where the images will be saved\n",
    "\n",
    "You can provide your column names by setting the `ra_col`, `dec_col`, and `name_col` parameters in the `download_image` function. If you do not provide a name column, the directory will be named after `<row index>_<objid>` of the object."
   ]
  },
  {
   "cell_type": "markdown",
   "metadata": {
    "pycharm": {
     "name": "#%% md\n"
    }
   },
   "source": [
    "## 2. Other Arguments\n",
    "\n",
    "To further customize the download, you can provide the following arguments:\n",
    "- `max_search_radius`: Maximum search radius in arcminutes, default is 10. The search radius will be increased if the image is not found, until the maximum search radius is reached.\n",
    "- `cutout`: Whether to cutout the galaxy image. SDSS images are in large frames, to see your galaxy you will need to cutout the image.\n",
    "- `num_workers`: Number of workers to use for downloading images. This is how images are downloaded in parallel to speed up the process. Note that a larger number of workers not always means faster download, the default is 16.\n",
    "- `progress_bar` and `verbose`: Whether to show a progress bar and print out the progress of the download.\n",
    "- `info_file`: an info file will be saved, including information about which galaxies were found and the cutout size of the galaxies and more."
   ]
  },
  {
   "cell_type": "markdown",
   "metadata": {
    "pycharm": {
     "name": "#%% md\n"
    }
   },
   "source": [
    "## 3. Downloading Images\n",
    "\n",
    "Ok, let's download some images! We will use `darg_mergers_10.fits` in the `example_data` folder as an example. This file contains the first row of the galaxy zoo mergers catalog, full catalog can be found [here](https://data.galaxyzoo.org)."
   ]
  },
  {
   "cell_type": "code",
   "execution_count": null,
   "metadata": {
    "pycharm": {
     "name": "#%%\n"
    }
   },
   "outputs": [],
   "source": [
    "sdss.download_images(\n",
    "    'example_data/darg_mergers_10.fits',\n",
    "    ra_col='ra1', dec_col='dec1'\n",
    ")\n",
    "\n",
    "# ---example output---\n",
    "# Searching galaxies: 100%|██████████| 10/10 [00:01<00:00,  7.68obj/s]\n",
    "# ...Found 10 out of 10 galaxies\n",
    "# ...Created directories for images at ...\n",
    "# Downloading images: 100%|██████████| 50/50 [00:25<00:00,  1.99img/s]\n",
    "# ...Saving info file at ...\n",
    "# ALL DONE!"
   ]
  },
  {
   "cell_type": "markdown",
   "source": [
    "## 4. Directory Structure\n",
    "\n",
    "All the images are in a parent directory: images_<date>_<time>. Each galaxy will have its own directory, named after the `name` column in the coordinates file. In each galaxy directory, there will be bands image data, such as `g.fits` or `r.fits`, depend on which bands you choose to download."
   ],
   "metadata": {
    "collapsed": false,
    "pycharm": {
     "name": "#%% md\n"
    }
   }
  },
  {
   "cell_type": "code",
   "execution_count": 7,
   "metadata": {
    "pycharm": {
     "name": "#%%\n"
    }
   },
   "outputs": [
    {
     "name": "stdout",
     "output_type": "stream",
     "text": [
      "\u001B[01;34mimages_2022-11-27_16-02-55\u001B[0m\r\n",
      "├── \u001B[01;34m0_1237655693557891179\u001B[0m\r\n",
      "│   ├── \u001B[00mg.fits\u001B[0m\r\n",
      "│   ├── \u001B[00mi.fits\u001B[0m\r\n",
      "│   ├── \u001B[00mr.fits\u001B[0m\r\n",
      "│   ├── \u001B[00mu.fits\u001B[0m\r\n",
      "│   └── \u001B[00mz.fits\u001B[0m\r\n",
      "├── \u001B[01;34m1_1237668569858375932\u001B[0m\r\n",
      "│   ├── \u001B[00mg.fits\u001B[0m\r\n",
      "│   ├── \u001B[00mi.fits\u001B[0m\r\n",
      "│   ├── \u001B[00mr.fits\u001B[0m\r\n",
      "│   ├── \u001B[00mu.fits\u001B[0m\r\n",
      "│   └── \u001B[00mz.fits\u001B[0m\r\n",
      "├── \u001B[01;34m2_1237674648853610662\u001B[0m\r\n",
      "│   ├── \u001B[00mg.fits\u001B[0m\r\n",
      "│   ├── \u001B[00mi.fits\u001B[0m\r\n",
      "│   ├── \u001B[00mr.fits\u001B[0m\r\n",
      "│   ├── \u001B[00mu.fits\u001B[0m\r\n",
      "│   └── \u001B[00mz.fits\u001B[0m\r\n",
      "├── \u001B[01;34m3_1237674649392775262\u001B[0m\r\n",
      "│   ├── \u001B[00mg.fits\u001B[0m\r\n",
      "│   ├── \u001B[00mi.fits\u001B[0m\r\n",
      "│   ├── \u001B[00mr.fits\u001B[0m\r\n",
      "│   ├── \u001B[00mu.fits\u001B[0m\r\n",
      "│   └── \u001B[00mz.fits\u001B[0m\r\n",
      "├── \u001B[01;34m4_1237654669213368481\u001B[0m\r\n",
      "│   ├── \u001B[00mg.fits\u001B[0m\r\n",
      "│   ├── \u001B[00mi.fits\u001B[0m\r\n",
      "│   ├── \u001B[00mr.fits\u001B[0m\r\n",
      "│   ├── \u001B[00mu.fits\u001B[0m\r\n",
      "│   └── \u001B[00mz.fits\u001B[0m\r\n",
      "├── \u001B[01;34m5_1237648703506022589\u001B[0m\r\n",
      "│   ├── \u001B[00mg.fits\u001B[0m\r\n",
      "│   ├── \u001B[00mi.fits\u001B[0m\r\n",
      "│   ├── \u001B[00mr.fits\u001B[0m\r\n",
      "│   ├── \u001B[00mu.fits\u001B[0m\r\n",
      "│   └── \u001B[00mz.fits\u001B[0m\r\n",
      "├── \u001B[01;34m6_1237648703509561483\u001B[0m\r\n",
      "│   ├── \u001B[00mg.fits\u001B[0m\r\n",
      "│   ├── \u001B[00mi.fits\u001B[0m\r\n",
      "│   ├── \u001B[00mr.fits\u001B[0m\r\n",
      "│   ├── \u001B[00mu.fits\u001B[0m\r\n",
      "│   └── \u001B[00mz.fits\u001B[0m\r\n",
      "├── \u001B[01;34m7_1237674649928532220\u001B[0m\r\n",
      "│   ├── \u001B[00mg.fits\u001B[0m\r\n",
      "│   ├── \u001B[00mi.fits\u001B[0m\r\n",
      "│   ├── \u001B[00mr.fits\u001B[0m\r\n",
      "│   ├── \u001B[00mu.fits\u001B[0m\r\n",
      "│   └── \u001B[00mz.fits\u001B[0m\r\n",
      "├── \u001B[01;34m8_1237648704040599644\u001B[0m\r\n",
      "│   ├── \u001B[00mg.fits\u001B[0m\r\n",
      "│   ├── \u001B[00mi.fits\u001B[0m\r\n",
      "│   ├── \u001B[00mr.fits\u001B[0m\r\n",
      "│   ├── \u001B[00mu.fits\u001B[0m\r\n",
      "│   └── \u001B[00mz.fits\u001B[0m\r\n",
      "├── \u001B[01;34m9_1237648704044138666\u001B[0m\r\n",
      "│   ├── \u001B[00mg.fits\u001B[0m\r\n",
      "│   ├── \u001B[00mi.fits\u001B[0m\r\n",
      "│   ├── \u001B[00mr.fits\u001B[0m\r\n",
      "│   ├── \u001B[00mu.fits\u001B[0m\r\n",
      "│   └── \u001B[00mz.fits\u001B[0m\r\n",
      "└── \u001B[00minfo.csv\u001B[0m\r\n",
      "\r\n",
      "10 directories, 51 files\r\n"
     ]
    }
   ],
   "source": [
    "!tree images_2022-11-27_16-02-55"
   ]
  }
 ],
 "metadata": {
  "kernelspec": {
   "display_name": "Python 3 (ipykernel)",
   "language": "python",
   "name": "python3"
  },
  "language_info": {
   "codemirror_mode": {
    "name": "ipython",
    "version": 3
   },
   "file_extension": ".py",
   "mimetype": "text/x-python",
   "name": "python",
   "nbconvert_exporter": "python",
   "pygments_lexer": "ipython3",
   "version": "3.9.12"
  }
 },
 "nbformat": 4,
 "nbformat_minor": 1
}