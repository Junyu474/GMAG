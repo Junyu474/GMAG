{
 "cells": [
  {
   "cell_type": "markdown",
   "id": "c9716830-3caa-4c4a-b027-070cbb10a2f9",
   "metadata": {},
   "source": [
    "# GMAG vs Astroquery - Image Download Time Comparison\n",
    "\n",
    "This notebook compares the galaxy image search and download time between the GMAG and Astroquery packages. \n",
    "\n",
    "To run this notebook yourself, download this notebook and the `example_data` folder, and install `gmag` and `astroquery` packages. \n",
    "\n",
    "## Setup\n",
    "\n",
    "- __Catalog__: Galaxy Zoo merging galaxies ([link here](https://data.galaxyzoo.org/data/mergers/darg_mergers.fits)), uses the __first ten rows__ of data (fits file at `example_data/darg_mergers_10.fits`). \n",
    "    \n",
    "- __Number of Images__: 30 (Download SDSS g,r,i band, total of 10x3=30 images)."
   ]
  },
  {
   "cell_type": "markdown",
   "id": "e582564d-54ee-4e05-b20e-bfab19f4ec2a",
   "metadata": {},
   "source": [
    "## Astroquery"
   ]
  },
  {
   "cell_type": "code",
   "execution_count": 1,
   "id": "89074670",
   "metadata": {},
   "outputs": [
    {
     "name": "stdout",
     "output_type": "stream",
     "text": [
      "Cleared astroquery cache\n"
     ]
    }
   ],
   "source": [
    "# Optional: Clear astroquery cache\n",
    "import shutil\n",
    "import pathlib\n",
    "cache_dir = pathlib.Path.home() / '.astropy' / 'cache' \n",
    "if cache_dir.exists():\n",
    "    shutil.rmtree(cache_dir)\n",
    "    print('Cleared astroquery cache')"
   ]
  },
  {
   "cell_type": "code",
   "execution_count": 2,
   "id": "e4489c86-b680-4165-bf3e-6224d1560dc3",
   "metadata": {},
   "outputs": [
    {
     "name": "stdout",
     "output_type": "stream",
     "text": [
      "astroquery version: 0.4.6\n"
     ]
    }
   ],
   "source": [
    "import astroquery\n",
    "from astroquery.sdss import SDSS\n",
    "from astropy.table import Table, vstack\n",
    "from astropy import coordinates\n",
    "\n",
    "print(f\"astroquery version: {astroquery.__version__}\")"
   ]
  },
  {
   "cell_type": "code",
   "execution_count": 3,
   "id": "0d4f3584-3125-406a-bfaf-d07d3f626808",
   "metadata": {},
   "outputs": [
    {
     "name": "stdout",
     "output_type": "stream",
     "text": [
      "CPU times: user 9.06 s, sys: 2.01 s, total: 11.1 s\n",
      "Wall time: 1min 57s\n"
     ]
    }
   ],
   "source": [
    "%%time\n",
    "# Read table and coordinates\n",
    "table = Table.read(\"example_data/darg_mergers_10.fits\")\n",
    "coords = coordinates.SkyCoord(table['ra1'], table['dec1'], unit='deg')\n",
    "\n",
    "# Search and get images\n",
    "xid = vstack([SDSS.query_region(c, radius='1m')[0] for c in coords])\n",
    "imgs = SDSS.get_images(matches=xid, band='gri')\n",
    "\n",
    "# Store images\n",
    "pathlib.Path('data').mkdir(parents=True, exist_ok=True)\n",
    "for i, img in enumerate(imgs):\n",
    "    rowid = i // 3\n",
    "    file_name = f\"{xid['objid'][rowid]}-{img[0].header['FILTER']}.fits\"\n",
    "    img.writeto(pathlib.Path.cwd() / 'data' / file_name)"
   ]
  },
  {
   "cell_type": "markdown",
   "id": "4df3126a-8e0d-4a13-82c8-ed8c5ae78ed4",
   "metadata": {},
   "source": [
    "## GMAG"
   ]
  },
  {
   "cell_type": "code",
   "execution_count": 4,
   "id": "01f5436f-3d91-47df-9dd4-b25a58797aa8",
   "metadata": {},
   "outputs": [
    {
     "name": "stdout",
     "output_type": "stream",
     "text": [
      "gmag version: 2.0.1\n"
     ]
    }
   ],
   "source": [
    "import gmag\n",
    "from gmag import sdss\n",
    "\n",
    "print(f\"gmag version: {gmag.__version__}\")"
   ]
  },
  {
   "cell_type": "code",
   "execution_count": 7,
   "id": "00f3ccb7-fa43-44f8-a7ac-be12797f71ed",
   "metadata": {},
   "outputs": [
    {
     "name": "stderr",
     "output_type": "stream",
     "text": [
      "Searching galaxies: 100%|██████████████████████| 10/10 [00:01<00:00,  7.28obj/s]"
     ]
    },
    {
     "name": "stdout",
     "output_type": "stream",
     "text": [
      "...Found 10 out of 10 galaxies\n",
      "...Created directories for images at \u001b[94m/Users/junyu/Documents/GitHub/GMAG/notebooks/images_2022-11-27_12-09-46\u001b[00m\n"
     ]
    },
    {
     "name": "stderr",
     "output_type": "stream",
     "text": [
      "\n",
      "Downloading images: 100%|██████████████████████| 30/30 [00:17<00:00,  1.76img/s]"
     ]
    },
    {
     "name": "stdout",
     "output_type": "stream",
     "text": [
      "...Saving info file at \u001b[94m/Users/junyu/Documents/GitHub/GMAG/notebooks/images_2022-11-27_12-09-46/info.csv\u001b[00m\n",
      "\u001b[1mALL DONE!\u001b[00m\n",
      "CPU times: user 76.9 ms, sys: 139 ms, total: 216 ms\n",
      "Wall time: 18.9 s\n"
     ]
    },
    {
     "name": "stderr",
     "output_type": "stream",
     "text": [
      "\n"
     ]
    }
   ],
   "source": [
    "%%time\n",
    "sdss.download_images(\n",
    "    \"example_data/darg_mergers_10.fits\", \n",
    "    bands='gri', ra_col=\"ra1\", dec_col=\"dec1\", cutout=False\n",
    ")"
   ]
  },
  {
   "cell_type": "markdown",
   "id": "e22f62d6",
   "metadata": {},
   "source": [
    "##  6 TIMES FASTER!"
   ]
  }
 ],
 "metadata": {
  "kernelspec": {
   "display_name": "Python [conda env:astr]",
   "language": "python",
   "name": "conda-env-astr-py"
  },
  "language_info": {
   "codemirror_mode": {
    "name": "ipython",
    "version": 3
   },
   "file_extension": ".py",
   "mimetype": "text/x-python",
   "name": "python",
   "nbconvert_exporter": "python",
   "pygments_lexer": "ipython3",
   "version": "3.10.4"
  }
 },
 "nbformat": 4,
 "nbformat_minor": 5
}
